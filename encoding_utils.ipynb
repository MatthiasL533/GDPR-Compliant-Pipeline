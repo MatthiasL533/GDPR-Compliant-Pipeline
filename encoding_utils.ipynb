{
 "cells": [
  {
   "cell_type": "code",
   "execution_count": 1,
   "id": "bf63a2c6",
   "metadata": {},
   "outputs": [],
   "source": [
    "import pandas as pd\n",
    "from sklearn.model_selection import train_test_split\n",
    "from sklearn.ensemble import RandomForestClassifier\n",
    "from sklearn.linear_model import LogisticRegression\n",
    "\n",
    "def encode_categorical_features(df, exclude_columns=None):\n",
    "    \"\"\"Encode categorical features using dummy encoding or binary encoding based on the number of unique values,\n",
    "    while excluding specified columns from encoding.\n",
    "    \n",
    "    Args:\n",
    "        df (pd.DataFrame): Input DataFrame containing features to be encoded.\n",
    "        exclude_columns (list): List of columns to exclude from encoding.\n",
    "    \n",
    "    Returns:\n",
    "        pd.DataFrame: DataFrame with encoded features.\n",
    "        dict: Dictionary mapping each original column name to the encoding type used.\n",
    "    \"\"\"\n",
    "    encoded_df = df.copy()\n",
    "    encoding_info = {}\n",
    "    if exclude_columns is None:\n",
    "        exclude_columns = []\n",
    "    \n",
    "    categorical_columns = encoded_df.select_dtypes(include=['object', 'category']).columns\n",
    "    \n",
    "    for column in categorical_columns:\n",
    "        if column in exclude_columns:\n",
    "            encoding_info[column] = \"Excluded\"\n",
    "            continue\n",
    "        \n",
    "        unique_values = encoded_df[column].nunique()\n",
    "        if unique_values == 2:\n",
    "            value_mapping = {label: idx for idx, label in enumerate(encoded_df[column].unique())}\n",
    "            encoded_df[column] = encoded_df[column].map(value_mapping)\n",
    "            encoding_info[column] = \"Binary Encoding\"\n",
    "        elif unique_values >= 3:\n",
    "            dummies = pd.get_dummies(encoded_df[column], prefix=column)\n",
    "            encoded_df = pd.concat([encoded_df, dummies], axis=1)\n",
    "            encoded_df.drop(column, axis=1, inplace=True)\n",
    "            encoding_info[column] = \"Dummy Encoding\"\n",
    "    \n",
    "    return encoded_df, encoding_info\n",
    "\n"
   ]
  },
  {
   "cell_type": "code",
   "execution_count": null,
   "id": "828e0ff0",
   "metadata": {},
   "outputs": [],
   "source": []
  }
 ],
 "metadata": {
  "kernelspec": {
   "display_name": "Python 3 (ipykernel)",
   "language": "python",
   "name": "python3"
  },
  "language_info": {
   "codemirror_mode": {
    "name": "ipython",
    "version": 3
   },
   "file_extension": ".py",
   "mimetype": "text/x-python",
   "name": "python",
   "nbconvert_exporter": "python",
   "pygments_lexer": "ipython3",
   "version": "3.9.13"
  }
 },
 "nbformat": 4,
 "nbformat_minor": 5
}
